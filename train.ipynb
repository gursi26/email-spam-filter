{
 "cells": [
  {
   "cell_type": "code",
   "execution_count": 177,
   "source": [
    "from sklearn.model_selection import train_test_split\n",
    "from sklearn.feature_extraction.text import CountVectorizer, TfidfTransformer\n",
    "from sklearn.naive_bayes import MultinomialNB\n",
    "from sklearn.metrics import accuracy_score\n",
    "import numpy as np \n",
    "import pandas as pd \n",
    "import pickle"
   ],
   "outputs": [],
   "metadata": {}
  },
  {
   "cell_type": "code",
   "execution_count": 178,
   "source": [
    "df = pd.read_csv('dataset.csv')\n",
    "df.head()"
   ],
   "outputs": [
    {
     "output_type": "execute_result",
     "data": {
      "text/html": [
       "<div>\n",
       "<style scoped>\n",
       "    .dataframe tbody tr th:only-of-type {\n",
       "        vertical-align: middle;\n",
       "    }\n",
       "\n",
       "    .dataframe tbody tr th {\n",
       "        vertical-align: top;\n",
       "    }\n",
       "\n",
       "    .dataframe thead th {\n",
       "        text-align: right;\n",
       "    }\n",
       "</style>\n",
       "<table border=\"1\" class=\"dataframe\">\n",
       "  <thead>\n",
       "    <tr style=\"text-align: right;\">\n",
       "      <th></th>\n",
       "      <th>Text</th>\n",
       "      <th>Labels</th>\n",
       "    </tr>\n",
       "  </thead>\n",
       "  <tbody>\n",
       "    <tr>\n",
       "      <th>0</th>\n",
       "      <td>carnegie mellon university create a carnegie m...</td>\n",
       "      <td>1</td>\n",
       "    </tr>\n",
       "    <tr>\n",
       "      <th>1</th>\n",
       "      <td>georgia tech greetings from georgia tech ! we ...</td>\n",
       "      <td>1</td>\n",
       "    </tr>\n",
       "    <tr>\n",
       "      <th>2</th>\n",
       "      <td>carnegie mellon university experience carnegie...</td>\n",
       "      <td>1</td>\n",
       "    </tr>\n",
       "    <tr>\n",
       "      <th>3</th>\n",
       "      <td>wheaton college massachusetts come see wheaton...</td>\n",
       "      <td>1</td>\n",
       "    </tr>\n",
       "    <tr>\n",
       "      <th>4</th>\n",
       "      <td>george mason university there ' s still time !...</td>\n",
       "      <td>1</td>\n",
       "    </tr>\n",
       "  </tbody>\n",
       "</table>\n",
       "</div>"
      ],
      "text/plain": [
       "                                                Text  Labels\n",
       "0  carnegie mellon university create a carnegie m...       1\n",
       "1  georgia tech greetings from georgia tech ! we ...       1\n",
       "2  carnegie mellon university experience carnegie...       1\n",
       "3  wheaton college massachusetts come see wheaton...       1\n",
       "4  george mason university there ' s still time !...       1"
      ]
     },
     "metadata": {},
     "execution_count": 178
    }
   ],
   "metadata": {}
  },
  {
   "cell_type": "code",
   "execution_count": 179,
   "source": [
    "x_train, x_test, y_train, y_test = train_test_split(df['Text'], df['Labels'], test_size=0.2)\n",
    "cv = CountVectorizer()\n",
    "x_train_counts = cv.fit_transform(x_train)\n",
    "tfidf = TfidfTransformer()\n",
    "x_train_tfidf = tfidf.fit_transform(x_train_counts)"
   ],
   "outputs": [],
   "metadata": {}
  },
  {
   "cell_type": "code",
   "execution_count": 180,
   "source": [
    "model = MultinomialNB().fit(x_train_tfidf, y_train)"
   ],
   "outputs": [],
   "metadata": {}
  },
  {
   "cell_type": "code",
   "execution_count": 181,
   "source": [
    "x_test_counts = cv.transform(x_test)\n",
    "x_test_tfidf = tfidf.transform(x_test_counts)\n",
    "yhat = model.predict(x_test_tfidf)\n",
    "\n",
    "acc = accuracy_score(y_test, yhat)\n",
    "print(f'Accuracy : {acc}')"
   ],
   "outputs": [
    {
     "output_type": "stream",
     "name": "stdout",
     "text": [
      "Accuracy : 1.0\n"
     ]
    }
   ],
   "metadata": {}
  },
  {
   "cell_type": "code",
   "execution_count": 182,
   "source": [
    "spam_test = \"Would you like to join our University? Contact the admissions department or your college counsellor and apply now!\"\n",
    "not_spam_test = \"You college essays and homework are due. Please turn them in on google classroom\"\n",
    "\n",
    "def predict(text, cv, tfidf, model):\n",
    "    text = ' '.join(tk(text))\n",
    "    text_counts = cv.transform(np.array([text]))\n",
    "    text_tfidf = tfidf.transform(text_counts)\n",
    "    prediction = model.predict(text_tfidf)\n",
    "    return prediction\n",
    "\n",
    "prediction = predict(spam_test, cv, tfidf, model)\n",
    "print(f'Spam : {bool(prediction[0])}')\n",
    "\n",
    "prediction = predict(spam_test, cv, tfidf, model)\n",
    "print(f'Spam : {bool(prediction[0])}')"
   ],
   "outputs": [
    {
     "output_type": "stream",
     "name": "stdout",
     "text": [
      "Spam : True\n",
      "Spam : True\n"
     ]
    }
   ],
   "metadata": {}
  },
  {
   "cell_type": "code",
   "execution_count": 183,
   "source": [
    "to_save = [cv, tfidf, model]\n",
    "with open('model.pickle','wb') as f : \n",
    "    pickle.dump(to_save, f)"
   ],
   "outputs": [],
   "metadata": {}
  }
 ],
 "metadata": {
  "orig_nbformat": 4,
  "language_info": {
   "name": "python",
   "version": "3.8.5",
   "mimetype": "text/x-python",
   "codemirror_mode": {
    "name": "ipython",
    "version": 3
   },
   "pygments_lexer": "ipython3",
   "nbconvert_exporter": "python",
   "file_extension": ".py"
  },
  "kernelspec": {
   "name": "python3",
   "display_name": "Python 3.8.5 64-bit ('gmail': conda)"
  },
  "interpreter": {
   "hash": "ca4db87cc71daec7d5c0928292c56b9220fc08d6b20ece4bd52e25c2ec10dd6d"
  }
 },
 "nbformat": 4,
 "nbformat_minor": 2
}