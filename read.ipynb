{
 "cells": [
  {
   "cell_type": "code",
   "execution_count": 4,
   "source": [
    "import imaplib, email, random, re\n",
    "from helper import SpamDetection, sort_email, login"
   ],
   "outputs": [],
   "metadata": {}
  },
  {
   "cell_type": "code",
   "execution_count": 5,
   "source": [
    "imap = login()\n",
    "detect = SpamDetection()\n",
    "spam_folder_name = \"\\\"\" + \"Collegeboard spam\" + \"\\\"\"\n",
    "\n",
    "# imap.select(spam_folder_name, readonly=False)\n",
    "imap.select(\"inbox\", readonly=False)\n",
    "\n",
    "_, mails = imap.search(None, 'UNSEEN')\n",
    "mails = mails[0].split()\n",
    "\n",
    "if len(mails) == 0 : \n",
    "    print('No unseen messages')\n",
    "else : \n",
    "    for i,uid in zip([1],mails):\n",
    "        _, data = imap.fetch(uid, '(RFC822)')\n",
    "        _, b = data[0]\n",
    "        email_msg = email.message_from_bytes(b)\n",
    "        print(f'uid: {uid}')\n",
    "        for header in ['subject', 'to', 'from', 'date']:\n",
    "            print(f'{header}: {email_msg[header]}')\n",
    "        for part in email_msg.walk():\n",
    "            if part.get_content_type()=='text/plain' :\n",
    "                body = part.get_payload(decode=True).decode()\n",
    "                spam = detect.classify(body, email_msg['from'], email_msg['subject'], print_body=True)\n",
    "                sort_email(imap, spam, uid, spam_folder_name)"
   ],
   "outputs": [
    {
     "output_type": "stream",
     "name": "stdout",
     "text": [
      "Logged in.\n",
      "uid: b'2834'\n",
      "subject: Your project collegeboard-spam-filter has been shut down\n",
      "to: gursimarbatra@gmail.com\n",
      "from: Platform Notifications <PlatformNotifications-noreply@google.com>\n",
      "date: Fri, 24 Sep 2021 05:42:54 -0700\n",
      "Body: Project Permanent Deletion Warning Dear Developer, Your Google Cloud project collegeboard-spam-filter was shut down on September 24, 2021 12:42:52 PM UTC. Shut-down projects and the data stored in them may be recovered for a limited time before the projects are permanently deleted. If you'd like to recover your project, you must cancel the project's permanent deletion before October 24, 2021 12:42:52 PM UTC. To recover your shut-down project: Visit the Resources pending deletion page. Select the project you want to recover, and click Restore. In the confirmation dialog, click Restore. If you cannot recover your project by following the instructions above, you can try restoring it using the gcloud undelete command. If you take no action by October 24, 2021 12:42:52 PM UTC, you will be unable to recover your project. If you have any questions, please visit Google Cloud Platform Resource Manager Documentation or contact Google Cloud Platform Support. Cordially, The Google Cloud Platform Team © 2021 Google LLC. 1600 Amphitheatre Parkway, Mountain View, CA 94043 You have received this mandatory email service announcement to update you about important changes to your Google project, product or account.\n",
      "\n",
      "No spam detected.\n",
      "Mail marked as unseen.\n"
     ]
    }
   ],
   "metadata": {}
  }
 ],
 "metadata": {
  "orig_nbformat": 4,
  "language_info": {
   "name": "python",
   "version": "3.8.5",
   "mimetype": "text/x-python",
   "codemirror_mode": {
    "name": "ipython",
    "version": 3
   },
   "pygments_lexer": "ipython3",
   "nbconvert_exporter": "python",
   "file_extension": ".py"
  },
  "kernelspec": {
   "name": "python3",
   "display_name": "Python 3.8.5 64-bit ('gmail': conda)"
  },
  "interpreter": {
   "hash": "ca4db87cc71daec7d5c0928292c56b9220fc08d6b20ece4bd52e25c2ec10dd6d"
  }
 },
 "nbformat": 4,
 "nbformat_minor": 2
}