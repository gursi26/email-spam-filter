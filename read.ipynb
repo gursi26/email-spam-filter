{
 "cells": [
  {
   "cell_type": "code",
   "execution_count": 1,
   "source": [
    "import imaplib, email, random, re\n",
    "from helper import SpamDetection, sort_email"
   ],
   "outputs": [],
   "metadata": {}
  },
  {
   "cell_type": "code",
   "execution_count": 2,
   "source": [
    "host = 'imap.gmail.com'\n",
    "\n",
    "with open('/users/gursi/desktop/gmail_login.txt', 'r') as f : \n",
    "    username = f.readline().replace('\\n','')\n",
    "    password = f.readline().replace('\\n','')\n",
    "\n",
    "imap = imaplib.IMAP4_SSL(host)\n",
    "imap.login(username, password)\n",
    "print('Logged in.')"
   ],
   "outputs": [
    {
     "output_type": "stream",
     "name": "stdout",
     "text": [
      "Logged in.\n"
     ]
    }
   ],
   "metadata": {}
  },
  {
   "cell_type": "code",
   "execution_count": 3,
   "source": [
    "detect = SpamDetection()\n",
    "spam_folder_name = \"\\\"\" + \"Collegeboard spam\" + \"\\\"\"\n",
    "\n",
    "# mail.select(spam_folder_name, readonly=False)\n",
    "imap.select(\"inbox\", readonly=False)\n",
    "\n",
    "_, mails = imap.search(None, 'UNSEEN')\n",
    "mails = mails[0].split()\n",
    "\n",
    "if len(mails) == 0 : \n",
    "    print('No unseen messages')\n",
    "else : \n",
    "    for i,uid in zip([1],mails):\n",
    "        _, data = imap.fetch(uid, '(RFC822)')\n",
    "        _, b = data[0]\n",
    "        email_msg = email.message_from_bytes(b)\n",
    "        print(f'uid: {uid}')\n",
    "        for header in ['subject', 'to', 'from', 'date']:\n",
    "            print(f'{header}: {email_msg[header]}')\n",
    "        for part in email_msg.walk():\n",
    "            if part.get_content_type()=='text/plain' :\n",
    "                body = part.get_payload(decode=True).decode()\n",
    "                spam = detect.classify(body, email_msg['from'], email_msg['subject'], print_body=True)\n",
    "                sort_email(imap, spam, uid, spam_folder_name)"
   ],
   "outputs": [
    {
     "output_type": "stream",
     "name": "stdout",
     "text": [
      "uid: b'3980'\n",
      "subject: Sample email \n",
      "to: \"gursimar.batra@gmail.com\" <gursimar.batra@gmail.com>\n",
      "from: Gursimar Singh <gursimarsingh.stu@npsinternational.edu.sg>\n",
      "date: Sat, 25 Sep 2021 11:51:26 +0000\n",
      "Body: This is a sample email\n",
      "\n",
      "Spam detected.\n",
      "Mail marked as unseen.\n",
      "Mail relabeled.\n",
      "Mail deleted.\n"
     ]
    }
   ],
   "metadata": {}
  }
 ],
 "metadata": {
  "orig_nbformat": 4,
  "language_info": {
   "name": "python",
   "version": "3.8.5",
   "mimetype": "text/x-python",
   "codemirror_mode": {
    "name": "ipython",
    "version": 3
   },
   "pygments_lexer": "ipython3",
   "nbconvert_exporter": "python",
   "file_extension": ".py"
  },
  "kernelspec": {
   "name": "python3",
   "display_name": "Python 3.8.5 64-bit ('gmail': conda)"
  },
  "interpreter": {
   "hash": "ca4db87cc71daec7d5c0928292c56b9220fc08d6b20ece4bd52e25c2ec10dd6d"
  }
 },
 "nbformat": 4,
 "nbformat_minor": 2
}