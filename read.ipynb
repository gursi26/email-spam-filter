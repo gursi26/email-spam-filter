{
 "cells": [
  {
   "cell_type": "code",
   "execution_count": 1,
   "source": [
    "import imaplib, email, random, re"
   ],
   "outputs": [],
   "metadata": {}
  },
  {
   "cell_type": "code",
   "execution_count": 2,
   "source": [
    "nonos = ['http', '<', '{', '(', '\\\\', '[', ')', '[']\n",
    "\n",
    "def email_cleaner(text):\n",
    "    text = re.sub('\\W+',' ',text).strip()\n",
    "    text = text.replace('\\n', '')\n",
    "    text = text.replace('\\r', ' ')\n",
    "    subs = text.split(' ')\n",
    "    subs = list(filter(('').__ne__, subs))\n",
    "    \n",
    "    to_remove = []\n",
    "    for token in subs : \n",
    "        flag = True \n",
    "        for nono in nonos : \n",
    "            if nono in token : \n",
    "                flag = False \n",
    "                break \n",
    "        if not flag : \n",
    "            to_remove.append(token)\n",
    "\n",
    "    output = [i for i in subs if i not in to_remove]\n",
    "    text = ' '.join(output)\n",
    "    return text "
   ],
   "outputs": [],
   "metadata": {}
  },
  {
   "cell_type": "code",
   "execution_count": 60,
   "source": [
    "host = 'imap.gmail.com'\n",
    "spam_folder_name = \"\\\"\" + \"Collegeboard spam\" + \"\\\"\"\n",
    "\n",
    "with open('/users/gursi/desktop/gmail_login.txt', 'r') as f : \n",
    "    username = f.readline().replace('\\n','')\n",
    "    password = f.readline().replace('\\n','')\n",
    "\n",
    "mail = imaplib.IMAP4_SSL(host)\n",
    "mail.login(username, password)\n",
    "mail.select(spam_folder_name, readonly=False)\n",
    "# mail.select(\"inbox\", readonly=False)\n",
    "print('Logged in.')\n",
    "\n",
    "_, search_data = mail.search(None, 'UNSEEN')\n",
    "mails = search_data[0].split()\n",
    "\n",
    "for uid in mails:\n",
    "    _, data = mail.fetch(uid, '(RFC822)')\n",
    "    _, b = data[0]\n",
    "    email_msg = email.message_from_bytes(b)\n",
    "    print(f'uid: {uid}')\n",
    "    for header in ['subject', 'to', 'from', 'date']:\n",
    "        print(f'{header}: {email_msg[header]}')\n",
    "    for part in email_msg.walk():\n",
    "        if part.get_content_type()=='text/plain' :\n",
    "            body = part.get_payload(decode=True).decode()\n",
    "            body = email_cleaner(body)\n",
    "            print(body)\n",
    "            with open('/users/gursi/desktop/email.txt', 'w') as f:\n",
    "                f.writelines([body])\n",
    "    break"
   ],
   "outputs": [
    {
     "output_type": "stream",
     "name": "stdout",
     "text": [
      "Logged in.\n",
      "uid: b'3982'\n",
      "subject: Sample email for relabelling and deletion\n",
      "to: gursimar.batra@gmail.com\n",
      "from: Gursimar Singh <gursiml2602@gmail.com>\n",
      "date: Sun, 26 Sep 2021 11:15:39 +0800\n",
      "Sample email for relabelling and deletion\n"
     ]
    }
   ],
   "metadata": {}
  },
  {
   "cell_type": "code",
   "execution_count": 61,
   "source": [
    "def mark_unseen(mail_uid):\n",
    "    r = mail.store(mail_uid, '-FLAGS', '\\Seen')\n",
    "    if r[0] == 'OK':\n",
    "        print('Mail marked as unseen.')\n",
    "\n",
    "def relabel_and_delete(mail_uid, spam_folder_name):\n",
    "    r1 = mail.store(mail_uid, '+X-GM-LABELS', spam_folder_name)\n",
    "    mark_unseen(mail_uid)\n",
    "    if r1[0] == 'OK':\n",
    "        print('Mail relabeled.')\n",
    "        r3 = mail.store(mail_uid, \"+FLAGS\", \"\\\\Deleted\")\n",
    "        if r3[0] == 'OK' : \n",
    "            print('Mail deleted.')"
   ],
   "outputs": [],
   "metadata": {}
  },
  {
   "cell_type": "code",
   "execution_count": 62,
   "source": [
    "relabel_and_delete(uid, spam_folder_name)"
   ],
   "outputs": [
    {
     "output_type": "stream",
     "name": "stdout",
     "text": [
      "Mail marked as unseen.\n",
      "Mail relabeled.\n",
      "Mail deleted.\n"
     ]
    }
   ],
   "metadata": {}
  }
 ],
 "metadata": {
  "orig_nbformat": 4,
  "language_info": {
   "name": "python",
   "version": "3.8.5",
   "mimetype": "text/x-python",
   "codemirror_mode": {
    "name": "ipython",
    "version": 3
   },
   "pygments_lexer": "ipython3",
   "nbconvert_exporter": "python",
   "file_extension": ".py"
  },
  "kernelspec": {
   "name": "python3",
   "display_name": "Python 3.8.5 64-bit ('gmail': conda)"
  },
  "interpreter": {
   "hash": "ca4db87cc71daec7d5c0928292c56b9220fc08d6b20ece4bd52e25c2ec10dd6d"
  }
 },
 "nbformat": 4,
 "nbformat_minor": 2
}