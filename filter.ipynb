{
 "cells": [
  {
   "cell_type": "code",
   "execution_count": 66,
   "source": [
    "import re, numpy as np \n",
    "file = open('/users/gursi/desktop/test.txt','r').read()"
   ],
   "outputs": [],
   "metadata": {}
  },
  {
   "cell_type": "code",
   "execution_count": 71,
   "source": [
    "file = re.sub(r'[^\\w\\s]','',file)\n",
    "file = re.sub('\\W+',' ',file).strip()\n",
    "l = file.split(' ')\n",
    "nonos = ['http',\"'\", '{', '}', ';']\n",
    "\n",
    "idxs = []\n",
    "for i in range(len(l)): \n",
    "    flag = True \n",
    "    for nono in nonos : \n",
    "        if nono in l[i] : \n",
    "            flag = False \n",
    "            break \n",
    "    if not flag : \n",
    "        idxs.append(l[i])\n",
    "\n",
    "output = [i for i in l if i not in idxs]\n",
    "output = ' '.join(output)\n",
    "output"
   ],
   "outputs": [
    {
     "output_type": "execute_result",
     "data": {
      "text/plain": [
       "'en_sg 99 last chance none table td bordercollapse body backgroundcolor important none ReadMsgBody width 100 linkfix a color important none font 9px Arial none 0001pt 110pt Calibrisansserif 0in 0in 0in 99 2 days left Header_v01 headerVersion Header_v01 99 Sale is ending soon Sale ends at 13 Great deal Get a Mobile Mouse with select Surface devices and Surface Arc Mouse with Surface Laptop 4 for a limited Shop now Save Save Surface Go 2 WIFI RAM128GB SSD Type Cover Mobile Mouse Bundle Surface Pro 7 RAM128GB SSD Mobile Mouse S869 S966 S1223 S1388 Save Save Surface Pro 7 RAM256GB SSD Mobile Mouse Surface Laptop Go RAM128GB SSD S1520 S1788 S979 S1088 Save Save Surface Pro X RAM256GB SSD Surface Pro 7 RAM1TB SSD Mobile Mouse S1798 S2248 S2794 S3288 Available only at Microsoft Store Available only at Microsoft Store Surface Laptop 4 Get a Surface Arc Mouse with Surface Laptop 4 Unsubscribe Privacy Statement Microsoft CorporationOne Microsoft WA 98052 Valid in Singapore'"
      ]
     },
     "metadata": {},
     "execution_count": 71
    }
   ],
   "metadata": {}
  },
  {
   "cell_type": "code",
   "execution_count": 63,
   "source": [
    "print(l[111])\n",
    "print('http' in l[111])"
   ],
   "outputs": [
    {
     "output_type": "stream",
     "name": "stdout",
     "text": [
      "httpswwwmicrosoftcomensgstoreconfigureSurfaceLaptopGo94FC0BDGQ7WV52Q5OCIDema_7660191WTmc_idPromoEmail_7660191_Toolkit_en_SG_Toolkit_Sale_11Sept_Sale_en_SG_09112021_Grid2B\n",
      "True\n"
     ]
    }
   ],
   "metadata": {}
  }
 ],
 "metadata": {
  "orig_nbformat": 4,
  "language_info": {
   "name": "python",
   "version": "3.7.9",
   "mimetype": "text/x-python",
   "codemirror_mode": {
    "name": "ipython",
    "version": 3
   },
   "pygments_lexer": "ipython3",
   "nbconvert_exporter": "python",
   "file_extension": ".py"
  },
  "kernelspec": {
   "name": "python3",
   "display_name": "Python 3.7.9 64-bit ('nlp': conda)"
  },
  "interpreter": {
   "hash": "db75df7444b315deb24f9eb4ac874ddc85afa87a6b115d04c8487bf591171f11"
  }
 },
 "nbformat": 4,
 "nbformat_minor": 2
}